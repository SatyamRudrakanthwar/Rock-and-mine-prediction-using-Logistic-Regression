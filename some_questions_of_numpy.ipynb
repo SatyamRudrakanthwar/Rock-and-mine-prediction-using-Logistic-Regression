{
  "nbformat": 4,
  "nbformat_minor": 0,
  "metadata": {
    "colab": {
      "provenance": [],
      "authorship_tag": "ABX9TyN/DRkV0IwejDJV39n97vII",
      "include_colab_link": true
    },
    "kernelspec": {
      "name": "python3",
      "display_name": "Python 3"
    },
    "language_info": {
      "name": "python"
    }
  },
  "cells": [
    {
      "cell_type": "markdown",
      "metadata": {
        "id": "view-in-github",
        "colab_type": "text"
      },
      "source": [
        "<a href=\"https://colab.research.google.com/github/SatyamRudrakanthwar/Rock-and-mine-prediction-using-Logistic-Regression/blob/main/some_questions_of_numpy.ipynb\" target=\"_parent\"><img src=\"https://colab.research.google.com/assets/colab-badge.svg\" alt=\"Open In Colab\"/></a>"
      ]
    },
    {
      "cell_type": "code",
      "execution_count": 2,
      "metadata": {
        "colab": {
          "base_uri": "https://localhost:8080/"
        },
        "id": "PXt9bTp1PDQS",
        "outputId": "b069f3a9-22c4-4abe-d223-962ea92a1683"
      },
      "outputs": [
        {
          "output_type": "stream",
          "name": "stdout",
          "text": [
            "Array 1:\n",
            "[[1 2 3]\n",
            " [4 5 6]]\n",
            "\n",
            "Array 2:\n",
            "[10 20 30]\n",
            "\n",
            "Result of broadcasting:\n",
            "[[11 22 33]\n",
            " [14 25 36]]\n"
          ]
        }
      ],
      "source": [
        "import numpy as np\n",
        "\n",
        "# Create two NumPy arrays with different shapes\n",
        "array1 = np.array([[1, 2, 3],\n",
        "                   [4, 5, 6]])\n",
        "\n",
        "array2 = np.array([10, 20, 30])\n",
        "\n",
        "# Perform element-wise addition using broadcasting\n",
        "result = array1 + array2\n",
        "\n",
        "# Display the result\n",
        "print(\"Array 1:\")\n",
        "print(array1)\n",
        "\n",
        "print(\"\\nArray 2:\")\n",
        "print(array2)\n",
        "\n",
        "print(\"\\nResult of broadcasting:\")\n",
        "print(result)"
      ]
    },
    {
      "cell_type": "code",
      "source": [
        "import numpy as np\n",
        "\n",
        "# Create a NumPy array with little-endian byte order\n",
        "data = np.array([0x123456789abcdef0], dtype=np.uint64)\n",
        "print(\"Original data:\")\n",
        "print(data)\n",
        "\n",
        "# Byte swap the array (change the byte order to big-endian)\n",
        "swapped_data = data.byteswap()\n",
        "print(\"\\nByte-swapped data:\")\n",
        "print(swapped_data)\n",
        "\n",
        "# Alternatively, you can use the newbyteorder() function\n",
        "# to explicitly specify the byte order you want\n",
        "swapped_data2 = data.newbyteorder('big')\n",
        "print(\"\\nByte-swapped data using newbyteorder():\")\n",
        "print(swapped_data2)"
      ],
      "metadata": {
        "colab": {
          "base_uri": "https://localhost:8080/"
        },
        "id": "w2TL828-QTFU",
        "outputId": "e5693034-785f-4c26-9dd0-f153d63ac0e5"
      },
      "execution_count": 4,
      "outputs": [
        {
          "output_type": "stream",
          "name": "stdout",
          "text": [
            "Original data:\n",
            "[1311768467463790320]\n",
            "\n",
            "Byte-swapped data:\n",
            "[17356517385562371090]\n",
            "\n",
            "Byte-swapped data using newbyteorder():\n",
            "[17356517385562371090]\n"
          ]
        }
      ]
    },
    {
      "cell_type": "code",
      "source": [
        "import numpy as np\n",
        "\n",
        "# Creating an original array\n",
        "original_array = np.array([[1, 2, 3],\n",
        "                           [4, 5, 6]])\n",
        "\n",
        "# Creating a copy of the original array\n",
        "copy_array = original_array.copy()\n",
        "\n",
        "# Creating a view of the original array\n",
        "view_array = original_array.view()\n",
        "\n",
        "# Modifying elements in the copy array\n",
        "copy_array[0, 0] = 100\n",
        "\n",
        "# Modifying elements in the view array\n",
        "view_array[1, 1] = 200\n",
        "\n",
        "# Display the original, copy, and view arrays\n",
        "print(\"Original Array:\")\n",
        "print(original_array)\n",
        "\n",
        "print(\"\\nCopy Array:\")\n",
        "print(copy_array)\n",
        "\n",
        "print(\"\\nView Array:\")\n",
        "print(view_array)"
      ],
      "metadata": {
        "colab": {
          "base_uri": "https://localhost:8080/"
        },
        "id": "JKOWbXFURpxF",
        "outputId": "82c4a8d7-b9ce-4b75-94ed-a1be72a366fe"
      },
      "execution_count": 5,
      "outputs": [
        {
          "output_type": "stream",
          "name": "stdout",
          "text": [
            "Original Array:\n",
            "[[  1   2   3]\n",
            " [  4 200   6]]\n",
            "\n",
            "Copy Array:\n",
            "[[100   2   3]\n",
            " [  4   5   6]]\n",
            "\n",
            "View Array:\n",
            "[[  1   2   3]\n",
            " [  4 200   6]]\n"
          ]
        }
      ]
    },
    {
      "cell_type": "code",
      "source": [
        "import numpy as np\n",
        "\n",
        "# Creating an array of angles in degrees\n",
        "angles_deg = np.array([0, 30, 45, 60, 90])\n",
        "\n",
        "# Convert angles to radians\n",
        "angles_rad = np.radians(angles_deg)\n",
        "\n",
        "# Trigonometric functions\n",
        "sine_values = np.sin(angles_rad)\n",
        "cosine_values = np.cos(angles_rad)\n",
        "tangent_values = np.tan(angles_rad)\n",
        "arcsine_values = np.arcsin(sine_values)\n",
        "arccosine_values = np.arccos(cosine_values)\n",
        "arctangent_values = np.arctan(tangent_values)\n",
        "\n",
        "# Display the results\n",
        "print(\"Angles (in degrees):\", angles_deg)\n",
        "print(\"Angles (in radians):\", angles_rad)\n",
        "print(\"Sine values:\", sine_values)\n",
        "print(\"Cosine values:\", cosine_values)\n",
        "print(\"Tangent values:\", tangent_values)\n",
        "print(\"Arcsine values:\", arcsine_values)\n",
        "print(\"Arccosine values:\", arccosine_values)\n",
        "print(\"Arctangent values:\", arctangent_values)"
      ],
      "metadata": {
        "colab": {
          "base_uri": "https://localhost:8080/"
        },
        "id": "jSJWiNYgTPXk",
        "outputId": "dd507ed1-1c73-43b3-f8ee-8e0d7b7190c2"
      },
      "execution_count": 6,
      "outputs": [
        {
          "output_type": "stream",
          "name": "stdout",
          "text": [
            "Angles (in degrees): [ 0 30 45 60 90]\n",
            "Angles (in radians): [0.         0.52359878 0.78539816 1.04719755 1.57079633]\n",
            "Sine values: [0.         0.5        0.70710678 0.8660254  1.        ]\n",
            "Cosine values: [1.00000000e+00 8.66025404e-01 7.07106781e-01 5.00000000e-01\n",
            " 6.12323400e-17]\n",
            "Tangent values: [0.00000000e+00 5.77350269e-01 1.00000000e+00 1.73205081e+00\n",
            " 1.63312394e+16]\n",
            "Arcsine values: [0.         0.52359878 0.78539816 1.04719755 1.57079633]\n",
            "Arccosine values: [0.         0.52359878 0.78539816 1.04719755 1.57079633]\n",
            "Arctangent values: [0.         0.52359878 0.78539816 1.04719755 1.57079633]\n"
          ]
        }
      ]
    },
    {
      "cell_type": "code",
      "source": [
        "import numpy as np\n",
        "\n",
        "# Create a sample array for demonstration\n",
        "data = np.array([12, 45, 23, 67, 89, 34, 56, 78, 90, 43])\n",
        "\n",
        "# Statistical Functions\n",
        "mean_value = np.mean(data)\n",
        "median_value = np.median(data)\n",
        "standard_deviation = np.std(data)\n",
        "variance = np.var(data)\n",
        "min_value = np.min(data)\n",
        "max_value = np.max(data)\n",
        "sum_value = np.sum(data)\n",
        "\n",
        "# Display the results\n",
        "print(\"Data:\", data)\n",
        "print(\"Mean:\", mean_value)\n",
        "print(\"Median:\", median_value)\n",
        "print(\"Standard Deviation:\", standard_deviation)\n",
        "print(\"Variance:\", variance)\n",
        "print(\"Minimum Value:\", min_value)\n",
        "print(\"Maximum Value:\", max_value)\n",
        "print(\"Sum of Values:\", sum_value)"
      ],
      "metadata": {
        "colab": {
          "base_uri": "https://localhost:8080/"
        },
        "id": "ilNE7Y_eUiGC",
        "outputId": "c5efa656-a90b-4aa1-db72-f31a846e5f54"
      },
      "execution_count": 7,
      "outputs": [
        {
          "output_type": "stream",
          "name": "stdout",
          "text": [
            "Data: [12 45 23 67 89 34 56 78 90 43]\n",
            "Mean: 53.7\n",
            "Median: 50.5\n",
            "Standard Deviation: 25.682873670989387\n",
            "Variance: 659.6099999999999\n",
            "Minimum Value: 12\n",
            "Maximum Value: 90\n",
            "Sum of Values: 537\n"
          ]
        }
      ]
    },
    {
      "cell_type": "code",
      "source": [
        "import numpy as np\n",
        "\n",
        "# Create two NumPy arrays\n",
        "array1 = np.array([1, 2, 3, 4, 5])\n",
        "array2 = np.array([10, 20, 30, 40, 50])\n",
        "\n",
        "# Perform element-wise addition using vectorization\n",
        "result_addition = array1 + array2\n",
        "\n",
        "# Perform element-wise subtraction using vectorization\n",
        "result_subtraction = array1 - array2\n",
        "\n",
        "# Perform element-wise multiplication using vectorization\n",
        "result_multiplication = array1 * array2\n",
        "\n",
        "# Perform element-wise division using vectorization\n",
        "result_division = array2 / array1\n",
        "\n",
        "# Display the results\n",
        "print(\"Array 1:\", array1)\n",
        "print(\"Array 2:\", array2)\n",
        "\n",
        "print(\"\\nElement-wise Addition Result:\", result_addition)\n",
        "print(\"Element-wise Subtraction Result:\", result_subtraction)\n",
        "print(\"Element-wise Multiplication Result:\", result_multiplication)\n",
        "print(\"Element-wise Division Result:\", result_division)"
      ],
      "metadata": {
        "colab": {
          "base_uri": "https://localhost:8080/"
        },
        "id": "uHOPij-bV8xT",
        "outputId": "ede4c5ee-f66f-4c9a-fe4d-f728f8cc52a1"
      },
      "execution_count": 8,
      "outputs": [
        {
          "output_type": "stream",
          "name": "stdout",
          "text": [
            "Array 1: [1 2 3 4 5]\n",
            "Array 2: [10 20 30 40 50]\n",
            "\n",
            "Element-wise Addition Result: [11 22 33 44 55]\n",
            "Element-wise Subtraction Result: [ -9 -18 -27 -36 -45]\n",
            "Element-wise Multiplication Result: [ 10  40  90 160 250]\n",
            "Element-wise Division Result: [10. 10. 10. 10. 10.]\n"
          ]
        }
      ]
    }
  ]
}